{
 "cells": [
  {
   "cell_type": "markdown",
   "metadata": {
    "id": "q32gveKttS1e"
   },
   "source": [
    "# Modern Programming for Data Analytics\n",
    "Name: Jaeyoung Kang\n",
    "\n",
    "Andrew ID: jaeyoun2"
   ]
  },
  {
   "cell_type": "markdown",
   "metadata": {
    "id": "rZpjQ6Yged6i"
   },
   "source": [
    "# Exercise - GeoIP\n",
    "a. Install the package [ip2geotools](https://pypi.org/project/ip2geotools/) and [Faker](https://pypi.org/project/Faker/) using `pip`."
   ]
  },
  {
   "cell_type": "code",
   "execution_count": 1,
   "metadata": {
    "id": "TvbZcWBAedAf"
   },
   "outputs": [
    {
     "name": "stdout",
     "output_type": "stream",
     "text": [
      "Requirement already satisfied: ip2geotools in /Users/jaeyoungkang/opt/anaconda3/lib/python3.9/site-packages (0.1.6)\n",
      "Requirement already satisfied: lxml>=4.2.5 in /Users/jaeyoungkang/opt/anaconda3/lib/python3.9/site-packages (from ip2geotools) (4.6.3)\n",
      "Requirement already satisfied: decorator>=4.3.0 in /Users/jaeyoungkang/opt/anaconda3/lib/python3.9/site-packages (from ip2geotools) (5.1.0)\n",
      "Requirement already satisfied: Click>=7.0 in /Users/jaeyoungkang/opt/anaconda3/lib/python3.9/site-packages (from ip2geotools) (8.0.3)\n",
      "Requirement already satisfied: pip-review>=1.0 in /Users/jaeyoungkang/opt/anaconda3/lib/python3.9/site-packages (from ip2geotools) (1.2.0)\n",
      "Requirement already satisfied: certifi>=2018.10.15 in /Users/jaeyoungkang/opt/anaconda3/lib/python3.9/site-packages (from ip2geotools) (2021.10.8)\n",
      "Requirement already satisfied: lazy-object-proxy>=1.3.1 in /Users/jaeyoungkang/opt/anaconda3/lib/python3.9/site-packages (from ip2geotools) (1.6.0)\n",
      "Requirement already satisfied: geoip2>=2.9.0 in /Users/jaeyoungkang/opt/anaconda3/lib/python3.9/site-packages (from ip2geotools) (4.6.0)\n",
      "Requirement already satisfied: pylint>=2.2.0 in /Users/jaeyoungkang/opt/anaconda3/lib/python3.9/site-packages (from ip2geotools) (2.9.6)\n",
      "Requirement already satisfied: webencodings>=0.5.1 in /Users/jaeyoungkang/opt/anaconda3/lib/python3.9/site-packages (from ip2geotools) (0.5.1)\n",
      "Requirement already satisfied: tqdm>=4.28.1 in /Users/jaeyoungkang/opt/anaconda3/lib/python3.9/site-packages (from ip2geotools) (4.62.3)\n",
      "Requirement already satisfied: pyquery>=1.4.0 in /Users/jaeyoungkang/opt/anaconda3/lib/python3.9/site-packages (from ip2geotools) (1.4.3)\n",
      "Requirement already satisfied: ratelim>=0.1.6 in /Users/jaeyoungkang/opt/anaconda3/lib/python3.9/site-packages (from ip2geotools) (0.1.6)\n",
      "Requirement already satisfied: docutils>=0.14 in /Users/jaeyoungkang/opt/anaconda3/lib/python3.9/site-packages (from ip2geotools) (0.17.1)\n",
      "Requirement already satisfied: urllib3>=1.24.1 in /Users/jaeyoungkang/opt/anaconda3/lib/python3.9/site-packages (from ip2geotools) (1.26.7)\n",
      "Requirement already satisfied: astroid>=2.1.0 in /Users/jaeyoungkang/opt/anaconda3/lib/python3.9/site-packages (from ip2geotools) (2.6.6)\n",
      "Requirement already satisfied: Pygments>=2.3.0 in /Users/jaeyoungkang/opt/anaconda3/lib/python3.9/site-packages (from ip2geotools) (2.10.0)\n",
      "Requirement already satisfied: typed-ast>=1.1.0 in /Users/jaeyoungkang/opt/anaconda3/lib/python3.9/site-packages (from ip2geotools) (1.4.3)\n",
      "Requirement already satisfied: packaging>=18.0 in /Users/jaeyoungkang/opt/anaconda3/lib/python3.9/site-packages (from ip2geotools) (21.0)\n",
      "Requirement already satisfied: readme-renderer>=24.0 in /Users/jaeyoungkang/opt/anaconda3/lib/python3.9/site-packages (from ip2geotools) (37.1)\n",
      "Requirement already satisfied: dicttoxml>=1.7.4 in /Users/jaeyoungkang/opt/anaconda3/lib/python3.9/site-packages (from ip2geotools) (1.7.4)\n",
      "Requirement already satisfied: pyparsing>=2.3.0 in /Users/jaeyoungkang/opt/anaconda3/lib/python3.9/site-packages (from ip2geotools) (3.0.4)\n",
      "Requirement already satisfied: twine>=1.12.1 in /Users/jaeyoungkang/opt/anaconda3/lib/python3.9/site-packages (from ip2geotools) (4.0.1)\n",
      "Requirement already satisfied: idna>=2.7 in /Users/jaeyoungkang/opt/anaconda3/lib/python3.9/site-packages (from ip2geotools) (3.2)\n",
      "Requirement already satisfied: typing>=3.6.6 in /Users/jaeyoungkang/opt/anaconda3/lib/python3.9/site-packages (from ip2geotools) (3.7.4.3)\n",
      "Requirement already satisfied: pycodestyle>=2.4.0 in /Users/jaeyoungkang/opt/anaconda3/lib/python3.9/site-packages (from ip2geotools) (2.7.0)\n",
      "Requirement already satisfied: mccabe>=0.6.1 in /Users/jaeyoungkang/opt/anaconda3/lib/python3.9/site-packages (from ip2geotools) (0.6.1)\n",
      "Requirement already satisfied: pkginfo>=1.4.2 in /Users/jaeyoungkang/opt/anaconda3/lib/python3.9/site-packages (from ip2geotools) (1.8.3)\n",
      "Requirement already satisfied: maxminddb>=1.4.1 in /Users/jaeyoungkang/opt/anaconda3/lib/python3.9/site-packages (from ip2geotools) (2.2.0)\n",
      "Requirement already satisfied: requests-toolbelt>=0.8.0 in /Users/jaeyoungkang/opt/anaconda3/lib/python3.9/site-packages (from ip2geotools) (0.9.1)\n",
      "Requirement already satisfied: cssselect>=1.0.3 in /Users/jaeyoungkang/opt/anaconda3/lib/python3.9/site-packages (from ip2geotools) (1.1.0)\n",
      "Requirement already satisfied: six>=1.11.0 in /Users/jaeyoungkang/opt/anaconda3/lib/python3.9/site-packages (from ip2geotools) (1.16.0)\n",
      "Requirement already satisfied: geocoder>=1.38.1 in /Users/jaeyoungkang/opt/anaconda3/lib/python3.9/site-packages (from ip2geotools) (1.38.1)\n",
      "Requirement already satisfied: IP2Location>=8.0.3 in /Users/jaeyoungkang/opt/anaconda3/lib/python3.9/site-packages (from ip2geotools) (8.8.1)\n",
      "Requirement already satisfied: autopep8>=1.4.3 in /Users/jaeyoungkang/opt/anaconda3/lib/python3.9/site-packages (from ip2geotools) (1.5.7)\n",
      "Requirement already satisfied: bleach>=3.0.2 in /Users/jaeyoungkang/opt/anaconda3/lib/python3.9/site-packages (from ip2geotools) (4.0.0)\n",
      "Requirement already satisfied: isort>=4.3.4 in /Users/jaeyoungkang/opt/anaconda3/lib/python3.9/site-packages (from ip2geotools) (5.9.3)\n",
      "Requirement already satisfied: requests>=2.20.1 in /Users/jaeyoungkang/opt/anaconda3/lib/python3.9/site-packages (from ip2geotools) (2.26.0)\n",
      "Requirement already satisfied: future>=0.17.1 in /Users/jaeyoungkang/opt/anaconda3/lib/python3.9/site-packages (from ip2geotools) (0.18.2)\n",
      "Requirement already satisfied: wrapt>=1.10.11 in /Users/jaeyoungkang/opt/anaconda3/lib/python3.9/site-packages (from ip2geotools) (1.12.1)\n",
      "Requirement already satisfied: selenium>=3.141.0 in /Users/jaeyoungkang/opt/anaconda3/lib/python3.9/site-packages (from ip2geotools) (4.4.3)\n",
      "Requirement already satisfied: chardet>=3.0.4 in /Users/jaeyoungkang/opt/anaconda3/lib/python3.9/site-packages (from ip2geotools) (4.0.0)\n",
      "Requirement already satisfied: setuptools>=20.0 in /Users/jaeyoungkang/opt/anaconda3/lib/python3.9/site-packages (from astroid>=2.1.0->ip2geotools) (58.0.4)\n",
      "Requirement already satisfied: toml in /Users/jaeyoungkang/opt/anaconda3/lib/python3.9/site-packages (from autopep8>=1.4.3->ip2geotools) (0.10.2)\n",
      "Requirement already satisfied: aiohttp<4.0.0,>=3.6.2 in /Users/jaeyoungkang/opt/anaconda3/lib/python3.9/site-packages (from geoip2>=2.9.0->ip2geotools) (3.8.1)\n",
      "Requirement already satisfied: frozenlist>=1.1.1 in /Users/jaeyoungkang/opt/anaconda3/lib/python3.9/site-packages (from aiohttp<4.0.0,>=3.6.2->geoip2>=2.9.0->ip2geotools) (1.3.1)\n",
      "Requirement already satisfied: yarl<2.0,>=1.0 in /Users/jaeyoungkang/opt/anaconda3/lib/python3.9/site-packages (from aiohttp<4.0.0,>=3.6.2->geoip2>=2.9.0->ip2geotools) (1.8.1)\n",
      "Requirement already satisfied: charset-normalizer<3.0,>=2.0 in /Users/jaeyoungkang/opt/anaconda3/lib/python3.9/site-packages (from aiohttp<4.0.0,>=3.6.2->geoip2>=2.9.0->ip2geotools) (2.0.4)\n",
      "Requirement already satisfied: multidict<7.0,>=4.5 in /Users/jaeyoungkang/opt/anaconda3/lib/python3.9/site-packages (from aiohttp<4.0.0,>=3.6.2->geoip2>=2.9.0->ip2geotools) (6.0.2)\n",
      "Requirement already satisfied: aiosignal>=1.1.2 in /Users/jaeyoungkang/opt/anaconda3/lib/python3.9/site-packages (from aiohttp<4.0.0,>=3.6.2->geoip2>=2.9.0->ip2geotools) (1.2.0)\n",
      "Requirement already satisfied: async-timeout<5.0,>=4.0.0a3 in /Users/jaeyoungkang/opt/anaconda3/lib/python3.9/site-packages (from aiohttp<4.0.0,>=3.6.2->geoip2>=2.9.0->ip2geotools) (4.0.2)\n",
      "Requirement already satisfied: attrs>=17.3.0 in /Users/jaeyoungkang/opt/anaconda3/lib/python3.9/site-packages (from aiohttp<4.0.0,>=3.6.2->geoip2>=2.9.0->ip2geotools) (21.2.0)\n",
      "Requirement already satisfied: pip in /Users/jaeyoungkang/opt/anaconda3/lib/python3.9/site-packages (from pip-review>=1.0->ip2geotools) (21.2.4)\n",
      "Requirement already satisfied: trio~=0.17 in /Users/jaeyoungkang/opt/anaconda3/lib/python3.9/site-packages (from selenium>=3.141.0->ip2geotools) (0.21.0)\n",
      "Requirement already satisfied: trio-websocket~=0.9 in /Users/jaeyoungkang/opt/anaconda3/lib/python3.9/site-packages (from selenium>=3.141.0->ip2geotools) (0.9.2)\n",
      "Requirement already satisfied: async-generator>=1.9 in /Users/jaeyoungkang/opt/anaconda3/lib/python3.9/site-packages (from trio~=0.17->selenium>=3.141.0->ip2geotools) (1.10)\n",
      "Requirement already satisfied: sortedcontainers in /Users/jaeyoungkang/opt/anaconda3/lib/python3.9/site-packages (from trio~=0.17->selenium>=3.141.0->ip2geotools) (2.4.0)\n",
      "Requirement already satisfied: sniffio in /Users/jaeyoungkang/opt/anaconda3/lib/python3.9/site-packages (from trio~=0.17->selenium>=3.141.0->ip2geotools) (1.2.0)\n",
      "Requirement already satisfied: outcome in /Users/jaeyoungkang/opt/anaconda3/lib/python3.9/site-packages (from trio~=0.17->selenium>=3.141.0->ip2geotools) (1.2.0)\n",
      "Requirement already satisfied: wsproto>=0.14 in /Users/jaeyoungkang/opt/anaconda3/lib/python3.9/site-packages (from trio-websocket~=0.9->selenium>=3.141.0->ip2geotools) (1.2.0)\n"
     ]
    },
    {
     "name": "stdout",
     "output_type": "stream",
     "text": [
      "Requirement already satisfied: rfc3986>=1.4.0 in /Users/jaeyoungkang/opt/anaconda3/lib/python3.9/site-packages (from twine>=1.12.1->ip2geotools) (2.0.0)\n",
      "Requirement already satisfied: importlib-metadata>=3.6 in /Users/jaeyoungkang/opt/anaconda3/lib/python3.9/site-packages (from twine>=1.12.1->ip2geotools) (4.8.1)\n",
      "Requirement already satisfied: rich>=12.0.0 in /Users/jaeyoungkang/opt/anaconda3/lib/python3.9/site-packages (from twine>=1.12.1->ip2geotools) (12.5.1)\n",
      "Requirement already satisfied: keyring>=15.1 in /Users/jaeyoungkang/opt/anaconda3/lib/python3.9/site-packages (from twine>=1.12.1->ip2geotools) (23.1.0)\n",
      "Requirement already satisfied: zipp>=0.5 in /Users/jaeyoungkang/opt/anaconda3/lib/python3.9/site-packages (from importlib-metadata>=3.6->twine>=1.12.1->ip2geotools) (3.6.0)\n",
      "Requirement already satisfied: commonmark<0.10.0,>=0.9.0 in /Users/jaeyoungkang/opt/anaconda3/lib/python3.9/site-packages (from rich>=12.0.0->twine>=1.12.1->ip2geotools) (0.9.1)\n",
      "Requirement already satisfied: PySocks!=1.5.7,<2.0,>=1.5.6 in /Users/jaeyoungkang/opt/anaconda3/lib/python3.9/site-packages (from urllib3>=1.24.1->ip2geotools) (1.7.1)\n",
      "Requirement already satisfied: h11<1,>=0.9.0 in /Users/jaeyoungkang/opt/anaconda3/lib/python3.9/site-packages (from wsproto>=0.14->trio-websocket~=0.9->selenium>=3.141.0->ip2geotools) (0.13.0)\n",
      "Requirement already satisfied: Faker in /Users/jaeyoungkang/opt/anaconda3/lib/python3.9/site-packages (14.2.0)\n",
      "Requirement already satisfied: python-dateutil>=2.4 in /Users/jaeyoungkang/opt/anaconda3/lib/python3.9/site-packages (from Faker) (2.8.2)\n",
      "Requirement already satisfied: six>=1.5 in /Users/jaeyoungkang/opt/anaconda3/lib/python3.9/site-packages (from python-dateutil>=2.4->Faker) (1.16.0)\n"
     ]
    }
   ],
   "source": [
    "!pip install ip2geotools\n",
    "!pip install Faker"
   ]
  },
  {
   "cell_type": "markdown",
   "metadata": {
    "id": "pOdGLNPGl9tK"
   },
   "source": [
    "b. Use `Faker` to generate a list of 50 random [IPv4](https://faker.readthedocs.io/en/master/providers/faker.providers.internet.html#) addresses. Instructions to generate these random values can be found in the documentation.\n",
    "\n",
    "**Hint**\n",
    "* Set seed to `123`, i.e. \n",
    "```\n",
    "seed = 123\n",
    "Faker.seed( seed )\n",
    "```"
   ]
  },
  {
   "cell_type": "code",
   "execution_count": 2,
   "metadata": {
    "id": "J_M23E-ul_y4"
   },
   "outputs": [
    {
     "name": "stdout",
     "output_type": "stream",
     "text": [
      "['69.148.119.107', '184.135.155.222', '66.113.28.21', '53.66.186.34', '35.82.91.82', '109.101.61.75', '2.251.12.26', '110.250.252.82', '188.21.65.166', '84.48.122.209', '179.67.226.131', '210.247.237.99', '136.20.121.156', '160.86.251.136', '59.143.144.240', '144.251.7.225', '17.45.0.94', '186.253.164.90', '15.186.53.151', '103.66.212.88', '91.204.253.194', '159.28.220.35', '14.182.65.179', '34.9.176.26', '168.92.232.248', '178.164.189.58', '216.97.97.96', '109.100.2.48', '2.75.12.188', '188.103.172.196', '149.130.195.46', '69.164.94.120', '174.232.122.188', '86.133.192.241', '198.231.221.48', '8.244.163.142', '159.170.119.148', '194.238.249.97', '5.107.180.42', '111.28.171.243', '61.133.223.234', '72.159.96.134', '16.172.26.156', '122.208.254.75', '155.203.14.118', '128.5.210.97', '68.1.200.61', '9.107.173.234', '64.140.68.81', '166.10.18.67']\n"
     ]
    }
   ],
   "source": [
    "from faker import Faker\n",
    "Faker.seed(123)\n",
    "\n",
    "addresses = []\n",
    "\n",
    "for _ in range(50):\n",
    "   addresses.append(Faker().ipv4())\n",
    "\n",
    "print(addresses)"
   ]
  },
  {
   "cell_type": "markdown",
   "metadata": {
    "id": "WWQRe-Wjl_63"
   },
   "source": [
    "c. Use `ip2geotools` to get information about the IPs. Use the method `get` from `DbIpCity`. Read the [documentation](https://pypi.org/project/ip2geotools/) on how to properly use the method. \n",
    "\n",
    "* The responses should be save to a list named `responses`.\n",
    "\n",
    "**Hint**\n",
    "* Set the `api_key` to `free`.\n",
    "* Export the response from the get method to a JSON block using the method `to_json`."
   ]
  },
  {
   "cell_type": "code",
   "execution_count": 3,
   "metadata": {
    "id": "FAwdJ_TY4tzu"
   },
   "outputs": [
    {
     "name": "stdout",
     "output_type": "stream",
     "text": [
      "['{\"ip_address\": \"69.148.119.107\", \"city\": \"Plano\", \"region\": \"Texas\", \"country\": \"US\", \"latitude\": 33.0136764, \"longitude\": -96.6925096}', '{\"ip_address\": \"184.135.155.222\", \"city\": \"Chicago\", \"region\": \"Illinois\", \"country\": \"US\", \"latitude\": 41.8755616, \"longitude\": -87.6244212}', '{\"ip_address\": \"66.113.28.21\", \"city\": \"Colorado Springs\", \"region\": \"Colorado\", \"country\": \"US\", \"latitude\": 38.8339578, \"longitude\": -104.825348}', '{\"ip_address\": \"53.66.186.34\", \"city\": \"Stuttgart (Untert\\\\u00fcrkheim)\", \"region\": \"Baden-W\\\\u00fcrttemberg\", \"country\": \"DE\", \"latitude\": 48.7798209, \"longitude\": 9.2504725}', '{\"ip_address\": \"35.82.91.82\", \"city\": \"Portland\", \"region\": \"Oregon\", \"country\": \"US\", \"latitude\": 45.5202471, \"longitude\": -122.674194}', '{\"ip_address\": \"109.101.61.75\", \"city\": \"Bucharest (Sector 1)\", \"region\": \"Bucure\\\\u0219ti\", \"country\": \"RO\", \"latitude\": 44.416123, \"longitude\": 26.08021346945351}', '{\"ip_address\": \"2.251.12.26\", \"city\": \"Malmo\", \"region\": \"Sk\\\\u00e5ne\", \"country\": \"SE\", \"latitude\": 55.6052931, \"longitude\": 13.0001566}', '{\"ip_address\": \"110.250.252.82\", \"city\": \"Shijiazhuang\", \"region\": \"Hebei\", \"country\": \"CN\", \"latitude\": 38.0429742, \"longitude\": 114.5088385}', '{\"ip_address\": \"188.21.65.166\", \"city\": \"M\\\\u00f6dling\", \"region\": \"Lower Austria\", \"country\": \"AT\", \"latitude\": 48.0855922, \"longitude\": 16.2833526}', '{\"ip_address\": \"84.48.122.209\", \"city\": \"Sandsli (Fyllingsdalen)\", \"region\": \"Vestland\", \"country\": \"NO\", \"latitude\": null, \"longitude\": null}', '{\"ip_address\": \"179.67.226.131\", \"city\": \"S\\\\u00e3o Jo\\\\u00e3o del Rei (Jardim Col\\\\u00f4nia)\", \"region\": \"Minas Gerais\", \"country\": \"BR\", \"latitude\": null, \"longitude\": null}', '{\"ip_address\": \"210.247.237.99\", \"city\": \"Fortitude Valley\", \"region\": \"Queensland\", \"country\": \"AU\", \"latitude\": -27.4572735, \"longitude\": 153.03626627727664}', '{\"ip_address\": \"136.20.121.156\", \"city\": \"Chicago\", \"region\": \"Illinois\", \"country\": \"US\", \"latitude\": 41.8755616, \"longitude\": -87.6244212}', '{\"ip_address\": \"160.86.251.136\", \"city\": \"Chiyoda\", \"region\": \"Tokyo\", \"country\": \"JP\", \"latitude\": 35.6938097, \"longitude\": 139.7532163}', '{\"ip_address\": \"59.143.144.240\", \"city\": \"Osaka\", \"region\": \"\\\\u014csaka\", \"country\": \"JP\", \"latitude\": 34.7021912, \"longitude\": 135.4955866}', '{\"ip_address\": \"144.251.7.225\", \"city\": \"Whitehall\", \"region\": \"Ohio\", \"country\": \"US\", \"latitude\": 39.9667308, \"longitude\": -82.8854559}', '{\"ip_address\": \"17.45.0.94\", \"city\": \"Cupertino\", \"region\": \"California\", \"country\": \"US\", \"latitude\": 37.3228934, \"longitude\": -122.0322895}', '{\"ip_address\": \"186.253.164.90\", \"city\": \"S\\\\u00e3o Paulo\", \"region\": \"S\\\\u00e3o Paulo\", \"country\": \"BR\", \"latitude\": -23.5506507, \"longitude\": -46.6333824}', '{\"ip_address\": \"15.186.53.151\", \"city\": \"Palo Alto\", \"region\": \"California\", \"country\": \"US\", \"latitude\": 37.4443293, \"longitude\": -122.1598465}', '{\"ip_address\": \"103.66.212.88\", \"city\": \"Navi Mumbai (Sector 9)\", \"region\": \"Maharashtra\", \"country\": \"IN\", \"latitude\": 19.0308262, \"longitude\": 73.0198537}', '{\"ip_address\": \"91.204.253.194\", \"city\": \"Podolsk\", \"region\": \"Moscow Oblast\", \"country\": \"RU\", \"latitude\": 55.4308841, \"longitude\": 37.5453056}', '{\"ip_address\": \"159.28.220.35\", \"city\": \"Tokyo\", \"region\": \"Tokyo\", \"country\": \"JP\", \"latitude\": 35.6777691, \"longitude\": 139.7646365}', '{\"ip_address\": \"14.182.65.179\", \"city\": \"Hanoi\", \"region\": \"Hanoi\", \"country\": \"VN\", \"latitude\": 21.04455905, \"longitude\": 105.91867533594649}', '{\"ip_address\": \"34.9.176.26\", \"city\": \"Mountain View\", \"region\": \"California\", \"country\": \"US\", \"latitude\": 37.3893889, \"longitude\": -122.0832101}', '{\"ip_address\": \"168.92.232.248\", \"city\": \"Fairlawn\", \"region\": \"Ohio\", \"country\": \"US\", \"latitude\": 41.1326644, \"longitude\": -81.6262051}', '{\"ip_address\": \"178.164.189.58\", \"city\": \"Budapest (District X.)\", \"region\": \"Budapest\", \"country\": \"HU\", \"latitude\": 47.4687091, \"longitude\": 19.1258591}', '{\"ip_address\": \"216.97.97.96\", \"city\": \"Dallas\", \"region\": \"Texas\", \"country\": \"US\", \"latitude\": 32.7762719, \"longitude\": -96.7968559}', '{\"ip_address\": \"109.100.2.48\", \"city\": \"Bucharest (Sector 1)\", \"region\": \"Bucure\\\\u0219ti\", \"country\": \"RO\", \"latitude\": 44.416123, \"longitude\": 26.08021346945351}', '{\"ip_address\": \"2.75.12.188\", \"city\": \"Arykbalyk\", \"region\": \"North Kazakhstan\", \"country\": \"KZ\", \"latitude\": 52.953907, \"longitude\": 68.198669}', '{\"ip_address\": \"188.103.172.196\", \"city\": \"Frankfurt am Main\", \"region\": \"Hesse\", \"country\": \"DE\", \"latitude\": 50.1106444, \"longitude\": 8.6820917}', '{\"ip_address\": \"149.130.195.46\", \"city\": \"Wellesley\", \"region\": \"Massachusetts\", \"country\": \"US\", \"latitude\": 42.2964859, \"longitude\": -71.2925571}', '{\"ip_address\": \"69.164.94.120\", \"city\": \"Philadelphia (Center City)\", \"region\": \"Pennsylvania\", \"country\": \"US\", \"latitude\": 39.9525541, \"longitude\": -75.15202163851058}', '{\"ip_address\": \"174.232.122.188\", \"city\": \"New York\", \"region\": \"New York\", \"country\": \"US\", \"latitude\": 40.7127281, \"longitude\": -74.0060152}', '{\"ip_address\": \"86.133.192.241\", \"city\": \"Wolverhampton\", \"region\": \"England\", \"country\": \"GB\", \"latitude\": 52.5847651, \"longitude\": -2.127567}', '{\"ip_address\": \"198.231.221.48\", \"city\": \"Nutley\", \"region\": \"New Jersey\", \"country\": \"US\", \"latitude\": 40.8223223, \"longitude\": -74.1598663}', '{\"ip_address\": \"8.244.163.142\", \"city\": \"Koto-ku (Toyosu)\", \"region\": \"Tokyo\", \"country\": \"JP\", \"latitude\": 35.650452, \"longitude\": 139.7962058621045}', '{\"ip_address\": \"159.170.119.148\", \"city\": \"Prestwich\", \"region\": \"England\", \"country\": \"GB\", \"latitude\": 53.5304274, \"longitude\": -2.2960186}', '{\"ip_address\": \"194.238.249.97\", \"city\": \"Milton\", \"region\": \"England\", \"country\": \"GB\", \"latitude\": 52.2422961, \"longitude\": 0.1604726}', '{\"ip_address\": \"5.107.180.42\", \"city\": \"Sharjah city\", \"region\": \"Sharjah\", \"country\": \"AE\", \"latitude\": 25.33320525, \"longitude\": 55.41942849479064}', '{\"ip_address\": \"111.28.171.243\", \"city\": \"Shenzhen\", \"region\": \"Guangdong\", \"country\": \"CN\", \"latitude\": 22.5445741, \"longitude\": 114.0545429}', '{\"ip_address\": \"61.133.223.234\", \"city\": \"Beijing\", \"region\": \"Beijing\", \"country\": \"CN\", \"latitude\": 39.906217, \"longitude\": 116.3912757}', '{\"ip_address\": \"72.159.96.134\", \"city\": \"Atlanta\", \"region\": \"Georgia\", \"country\": \"US\", \"latitude\": 33.7489924, \"longitude\": -84.3902644}', '{\"ip_address\": \"16.172.26.156\", \"city\": \"Palo Alto\", \"region\": \"California\", \"country\": \"US\", \"latitude\": 37.4443293, \"longitude\": -122.1598465}', '{\"ip_address\": \"122.208.254.75\", \"city\": \"Chiyoda\", \"region\": \"Tokyo\", \"country\": \"JP\", \"latitude\": 35.6938097, \"longitude\": 139.7532163}', '{\"ip_address\": \"155.203.14.118\", \"city\": \"Elgin\", \"region\": \"Illinois\", \"country\": \"US\", \"latitude\": 42.03726, \"longitude\": -88.2810994}', '{\"ip_address\": \"128.5.210.97\", \"city\": \"Dearborn\", \"region\": \"Michigan\", \"country\": \"US\", \"latitude\": 42.3222599, \"longitude\": -83.1763145}', '{\"ip_address\": \"68.1.200.61\", \"city\": \"Ashburn\", \"region\": \"Virginia\", \"country\": \"US\", \"latitude\": 39.030019100000004, \"longitude\": -77.46964646557657}', '{\"ip_address\": \"9.107.173.234\", \"city\": \"Chicago\", \"region\": \"Illinois\", \"country\": \"US\", \"latitude\": 41.8755616, \"longitude\": -87.6244212}', '{\"ip_address\": \"64.140.68.81\", \"city\": \"Washington D.C.\", \"region\": \"District of Columbia\", \"country\": \"US\", \"latitude\": 38.8950368, \"longitude\": -77.0365427}', '{\"ip_address\": \"166.10.18.67\", \"city\": \"Chicago\", \"region\": \"Illinois\", \"country\": \"US\", \"latitude\": 41.8755616, \"longitude\": -87.6244212}']\n"
     ]
    }
   ],
   "source": [
    "from ip2geotools.databases.noncommercial import DbIpCity\n",
    "\n",
    "res = []\n",
    "\n",
    "for i in addresses:\n",
    "    res.append(DbIpCity.get(i,api_key = \"free\").to_json())\n",
    "\n",
    "print(res)"
   ]
  },
  {
   "cell_type": "markdown",
   "metadata": {
    "id": "4kKAkjl6cRgL"
   },
   "source": [
    "d. Data cleanup. Some the responses have empty fields for `latitude` and `longitude`. Remove the entries from the list that are missing either of these values.\n",
    "\n",
    "**Hint**\n",
    "* If the latitude and longitude are missing, then the value of either of these is set to `None`."
   ]
  },
  {
   "cell_type": "code",
   "execution_count": 4,
   "metadata": {
    "id": "I4iEjPgGcQv-"
   },
   "outputs": [
    {
     "name": "stdout",
     "output_type": "stream",
     "text": [
      "['{\"ip_address\": \"69.148.119.107\", \"city\": \"Plano\", \"region\": \"Texas\", \"country\": \"US\", \"latitude\": 33.0136764, \"longitude\": -96.6925096}', '{\"ip_address\": \"184.135.155.222\", \"city\": \"Chicago\", \"region\": \"Illinois\", \"country\": \"US\", \"latitude\": 41.8755616, \"longitude\": -87.6244212}', '{\"ip_address\": \"66.113.28.21\", \"city\": \"Colorado Springs\", \"region\": \"Colorado\", \"country\": \"US\", \"latitude\": 38.8339578, \"longitude\": -104.825348}', '{\"ip_address\": \"53.66.186.34\", \"city\": \"Stuttgart (Untert\\\\u00fcrkheim)\", \"region\": \"Baden-W\\\\u00fcrttemberg\", \"country\": \"DE\", \"latitude\": 48.7798209, \"longitude\": 9.2504725}', '{\"ip_address\": \"35.82.91.82\", \"city\": \"Portland\", \"region\": \"Oregon\", \"country\": \"US\", \"latitude\": 45.5202471, \"longitude\": -122.674194}', '{\"ip_address\": \"109.101.61.75\", \"city\": \"Bucharest (Sector 1)\", \"region\": \"Bucure\\\\u0219ti\", \"country\": \"RO\", \"latitude\": 44.416123, \"longitude\": 26.08021346945351}', '{\"ip_address\": \"2.251.12.26\", \"city\": \"Malmo\", \"region\": \"Sk\\\\u00e5ne\", \"country\": \"SE\", \"latitude\": 55.6052931, \"longitude\": 13.0001566}', '{\"ip_address\": \"110.250.252.82\", \"city\": \"Shijiazhuang\", \"region\": \"Hebei\", \"country\": \"CN\", \"latitude\": 38.0429742, \"longitude\": 114.5088385}', '{\"ip_address\": \"188.21.65.166\", \"city\": \"M\\\\u00f6dling\", \"region\": \"Lower Austria\", \"country\": \"AT\", \"latitude\": 48.0855922, \"longitude\": 16.2833526}', '{\"ip_address\": \"210.247.237.99\", \"city\": \"Fortitude Valley\", \"region\": \"Queensland\", \"country\": \"AU\", \"latitude\": -27.4572735, \"longitude\": 153.03626627727664}', '{\"ip_address\": \"136.20.121.156\", \"city\": \"Chicago\", \"region\": \"Illinois\", \"country\": \"US\", \"latitude\": 41.8755616, \"longitude\": -87.6244212}', '{\"ip_address\": \"160.86.251.136\", \"city\": \"Chiyoda\", \"region\": \"Tokyo\", \"country\": \"JP\", \"latitude\": 35.6938097, \"longitude\": 139.7532163}', '{\"ip_address\": \"59.143.144.240\", \"city\": \"Osaka\", \"region\": \"\\\\u014csaka\", \"country\": \"JP\", \"latitude\": 34.7021912, \"longitude\": 135.4955866}', '{\"ip_address\": \"144.251.7.225\", \"city\": \"Whitehall\", \"region\": \"Ohio\", \"country\": \"US\", \"latitude\": 39.9667308, \"longitude\": -82.8854559}', '{\"ip_address\": \"17.45.0.94\", \"city\": \"Cupertino\", \"region\": \"California\", \"country\": \"US\", \"latitude\": 37.3228934, \"longitude\": -122.0322895}', '{\"ip_address\": \"186.253.164.90\", \"city\": \"S\\\\u00e3o Paulo\", \"region\": \"S\\\\u00e3o Paulo\", \"country\": \"BR\", \"latitude\": -23.5506507, \"longitude\": -46.6333824}', '{\"ip_address\": \"15.186.53.151\", \"city\": \"Palo Alto\", \"region\": \"California\", \"country\": \"US\", \"latitude\": 37.4443293, \"longitude\": -122.1598465}', '{\"ip_address\": \"103.66.212.88\", \"city\": \"Navi Mumbai (Sector 9)\", \"region\": \"Maharashtra\", \"country\": \"IN\", \"latitude\": 19.0308262, \"longitude\": 73.0198537}', '{\"ip_address\": \"91.204.253.194\", \"city\": \"Podolsk\", \"region\": \"Moscow Oblast\", \"country\": \"RU\", \"latitude\": 55.4308841, \"longitude\": 37.5453056}', '{\"ip_address\": \"159.28.220.35\", \"city\": \"Tokyo\", \"region\": \"Tokyo\", \"country\": \"JP\", \"latitude\": 35.6777691, \"longitude\": 139.7646365}', '{\"ip_address\": \"14.182.65.179\", \"city\": \"Hanoi\", \"region\": \"Hanoi\", \"country\": \"VN\", \"latitude\": 21.04455905, \"longitude\": 105.91867533594649}', '{\"ip_address\": \"34.9.176.26\", \"city\": \"Mountain View\", \"region\": \"California\", \"country\": \"US\", \"latitude\": 37.3893889, \"longitude\": -122.0832101}', '{\"ip_address\": \"168.92.232.248\", \"city\": \"Fairlawn\", \"region\": \"Ohio\", \"country\": \"US\", \"latitude\": 41.1326644, \"longitude\": -81.6262051}', '{\"ip_address\": \"178.164.189.58\", \"city\": \"Budapest (District X.)\", \"region\": \"Budapest\", \"country\": \"HU\", \"latitude\": 47.4687091, \"longitude\": 19.1258591}', '{\"ip_address\": \"216.97.97.96\", \"city\": \"Dallas\", \"region\": \"Texas\", \"country\": \"US\", \"latitude\": 32.7762719, \"longitude\": -96.7968559}', '{\"ip_address\": \"109.100.2.48\", \"city\": \"Bucharest (Sector 1)\", \"region\": \"Bucure\\\\u0219ti\", \"country\": \"RO\", \"latitude\": 44.416123, \"longitude\": 26.08021346945351}', '{\"ip_address\": \"2.75.12.188\", \"city\": \"Arykbalyk\", \"region\": \"North Kazakhstan\", \"country\": \"KZ\", \"latitude\": 52.953907, \"longitude\": 68.198669}', '{\"ip_address\": \"188.103.172.196\", \"city\": \"Frankfurt am Main\", \"region\": \"Hesse\", \"country\": \"DE\", \"latitude\": 50.1106444, \"longitude\": 8.6820917}', '{\"ip_address\": \"149.130.195.46\", \"city\": \"Wellesley\", \"region\": \"Massachusetts\", \"country\": \"US\", \"latitude\": 42.2964859, \"longitude\": -71.2925571}', '{\"ip_address\": \"69.164.94.120\", \"city\": \"Philadelphia (Center City)\", \"region\": \"Pennsylvania\", \"country\": \"US\", \"latitude\": 39.9525541, \"longitude\": -75.15202163851058}', '{\"ip_address\": \"174.232.122.188\", \"city\": \"New York\", \"region\": \"New York\", \"country\": \"US\", \"latitude\": 40.7127281, \"longitude\": -74.0060152}', '{\"ip_address\": \"86.133.192.241\", \"city\": \"Wolverhampton\", \"region\": \"England\", \"country\": \"GB\", \"latitude\": 52.5847651, \"longitude\": -2.127567}', '{\"ip_address\": \"198.231.221.48\", \"city\": \"Nutley\", \"region\": \"New Jersey\", \"country\": \"US\", \"latitude\": 40.8223223, \"longitude\": -74.1598663}', '{\"ip_address\": \"8.244.163.142\", \"city\": \"Koto-ku (Toyosu)\", \"region\": \"Tokyo\", \"country\": \"JP\", \"latitude\": 35.650452, \"longitude\": 139.7962058621045}', '{\"ip_address\": \"159.170.119.148\", \"city\": \"Prestwich\", \"region\": \"England\", \"country\": \"GB\", \"latitude\": 53.5304274, \"longitude\": -2.2960186}', '{\"ip_address\": \"194.238.249.97\", \"city\": \"Milton\", \"region\": \"England\", \"country\": \"GB\", \"latitude\": 52.2422961, \"longitude\": 0.1604726}', '{\"ip_address\": \"5.107.180.42\", \"city\": \"Sharjah city\", \"region\": \"Sharjah\", \"country\": \"AE\", \"latitude\": 25.33320525, \"longitude\": 55.41942849479064}', '{\"ip_address\": \"111.28.171.243\", \"city\": \"Shenzhen\", \"region\": \"Guangdong\", \"country\": \"CN\", \"latitude\": 22.5445741, \"longitude\": 114.0545429}', '{\"ip_address\": \"61.133.223.234\", \"city\": \"Beijing\", \"region\": \"Beijing\", \"country\": \"CN\", \"latitude\": 39.906217, \"longitude\": 116.3912757}', '{\"ip_address\": \"72.159.96.134\", \"city\": \"Atlanta\", \"region\": \"Georgia\", \"country\": \"US\", \"latitude\": 33.7489924, \"longitude\": -84.3902644}', '{\"ip_address\": \"16.172.26.156\", \"city\": \"Palo Alto\", \"region\": \"California\", \"country\": \"US\", \"latitude\": 37.4443293, \"longitude\": -122.1598465}', '{\"ip_address\": \"122.208.254.75\", \"city\": \"Chiyoda\", \"region\": \"Tokyo\", \"country\": \"JP\", \"latitude\": 35.6938097, \"longitude\": 139.7532163}', '{\"ip_address\": \"155.203.14.118\", \"city\": \"Elgin\", \"region\": \"Illinois\", \"country\": \"US\", \"latitude\": 42.03726, \"longitude\": -88.2810994}', '{\"ip_address\": \"128.5.210.97\", \"city\": \"Dearborn\", \"region\": \"Michigan\", \"country\": \"US\", \"latitude\": 42.3222599, \"longitude\": -83.1763145}', '{\"ip_address\": \"68.1.200.61\", \"city\": \"Ashburn\", \"region\": \"Virginia\", \"country\": \"US\", \"latitude\": 39.030019100000004, \"longitude\": -77.46964646557657}', '{\"ip_address\": \"9.107.173.234\", \"city\": \"Chicago\", \"region\": \"Illinois\", \"country\": \"US\", \"latitude\": 41.8755616, \"longitude\": -87.6244212}', '{\"ip_address\": \"64.140.68.81\", \"city\": \"Washington D.C.\", \"region\": \"District of Columbia\", \"country\": \"US\", \"latitude\": 38.8950368, \"longitude\": -77.0365427}', '{\"ip_address\": \"166.10.18.67\", \"city\": \"Chicago\", \"region\": \"Illinois\", \"country\": \"US\", \"latitude\": 41.8755616, \"longitude\": -87.6244212}']\n"
     ]
    }
   ],
   "source": [
    "import pandas as pd\n",
    "\n",
    "df = pd.DataFrame(res)\n",
    "df1 = df[df[0].str.contains(\"null\")==False]\n",
    "responses = df1[0].astype(str).tolist()\n",
    "\n",
    "print(responses)"
   ]
  },
  {
   "cell_type": "markdown",
   "metadata": {
    "id": "R7qQD2sDDwLc"
   },
   "source": [
    "d. Save variables to disk. Use [pickle](https://docs.python.org/3/library/pickle.html) to serialize the variable `responses`. Save the pickle file to the course folder in your Google Drive in a file named `ips.pkl`. "
   ]
  },
  {
   "cell_type": "code",
   "execution_count": null,
   "metadata": {
    "id": "HInSJoZODwVC"
   },
   "outputs": [],
   "source": [
    "# INSERT CODE IN THIS CELL"
   ]
  },
  {
   "cell_type": "markdown",
   "metadata": {
    "id": "zluEy8OW4xED"
   },
   "source": [
    "This section will make a plot using the data above but will fail for missing data. So make sure the data is clean. Nothing to do here.\n",
    "\n",
    "**Hint**\n",
    "* If the plot is printed, then you are good to do. Keep in mind the shape of `responses`: it is a list of strings that needs to converted to JSON."
   ]
  },
  {
   "cell_type": "code",
   "execution_count": 5,
   "metadata": {
    "id": "swnWVBCdHlP_"
   },
   "outputs": [
    {
     "name": "stdout",
     "output_type": "stream",
     "text": [
      "Collecting basemap\n",
      "  Using cached basemap-1.3.4.zip (155 kB)\n",
      "  Installing build dependencies ... \u001b[?25ldone\n",
      "\u001b[?25h  Getting requirements to build wheel ... \u001b[?25ldone\n",
      "\u001b[?25h    Preparing wheel metadata ... \u001b[?25ldone\n",
      "\u001b[?25hCollecting numpy<1.24,>=1.22\n",
      "  Using cached numpy-1.23.3-cp39-cp39-macosx_10_9_x86_64.whl (18.1 MB)\n",
      "Collecting basemap-data<1.4,>=1.3.2\n",
      "  Using cached basemap_data-1.3.2-py2.py3-none-any.whl (30.5 MB)\n",
      "Collecting pyshp<2.4,>=1.2\n",
      "  Using cached pyshp-2.3.1-py2.py3-none-any.whl (46 kB)\n",
      "Collecting pyproj<3.4.0,>=1.9.3\n",
      "  Using cached pyproj-3.3.1-cp39-cp39-macosx_10_9_x86_64.whl (8.2 MB)\n",
      "Requirement already satisfied: matplotlib<3.6,>=1.5 in /Users/jaeyoungkang/opt/anaconda3/lib/python3.9/site-packages (from basemap) (3.4.3)\n",
      "Requirement already satisfied: pillow>=6.2.0 in /Users/jaeyoungkang/opt/anaconda3/lib/python3.9/site-packages (from matplotlib<3.6,>=1.5->basemap) (8.4.0)\n",
      "Requirement already satisfied: kiwisolver>=1.0.1 in /Users/jaeyoungkang/opt/anaconda3/lib/python3.9/site-packages (from matplotlib<3.6,>=1.5->basemap) (1.3.1)\n",
      "Requirement already satisfied: cycler>=0.10 in /Users/jaeyoungkang/opt/anaconda3/lib/python3.9/site-packages (from matplotlib<3.6,>=1.5->basemap) (0.10.0)\n",
      "Requirement already satisfied: pyparsing>=2.2.1 in /Users/jaeyoungkang/opt/anaconda3/lib/python3.9/site-packages (from matplotlib<3.6,>=1.5->basemap) (3.0.4)\n",
      "Requirement already satisfied: python-dateutil>=2.7 in /Users/jaeyoungkang/opt/anaconda3/lib/python3.9/site-packages (from matplotlib<3.6,>=1.5->basemap) (2.8.2)\n",
      "Requirement already satisfied: six in /Users/jaeyoungkang/opt/anaconda3/lib/python3.9/site-packages (from cycler>=0.10->matplotlib<3.6,>=1.5->basemap) (1.16.0)\n",
      "Requirement already satisfied: certifi in /Users/jaeyoungkang/opt/anaconda3/lib/python3.9/site-packages (from pyproj<3.4.0,>=1.9.3->basemap) (2021.10.8)\n",
      "Building wheels for collected packages: basemap\n",
      "  Building wheel for basemap (PEP 517) ... \u001b[?25lerror\n",
      "\u001b[31m  ERROR: Command errored out with exit status 1:\n",
      "   command: /Users/jaeyoungkang/opt/anaconda3/bin/python /Users/jaeyoungkang/opt/anaconda3/lib/python3.9/site-packages/pip/_vendor/pep517/in_process/_in_process.py build_wheel /var/folders/0s/vqdpbl0n5gqdvkxzwp1s0tgh0000gn/T/tmp8uynblh4\n",
      "       cwd: /private/var/folders/0s/vqdpbl0n5gqdvkxzwp1s0tgh0000gn/T/pip-install-ranogb6x/basemap_67c53e270e6345fc98b5f20e37e6f7db\n",
      "  Complete output (35 lines):\n",
      "  <string>:58: RuntimeWarning: Cannot find GEOS library and/or headers in standard locations ('/Users/jaeyoungkang/local', '/Users/jaeyoungkang', '/usr/local', '/usr', '/opt/local', '/opt', '/sw'). Please install the corresponding packages using your software management system or set the environment variable GEOS_DIR to point to the location where GEOS is installed (for example, if 'geos_c.h' is in '/usr/local/include' and 'libgeos_c' is in '/usr/local/lib', then you need to set GEOS_DIR to '/usr/local'\n",
      "  /private/var/folders/0s/vqdpbl0n5gqdvkxzwp1s0tgh0000gn/T/pip-build-env-ddk2_7ww/overlay/lib/python3.9/site-packages/setuptools/dist.py:286: SetuptoolsDeprecationWarning: The namespace_packages parameter is deprecated, consider using implicit namespaces instead (PEP 420).\n",
      "    warnings.warn(msg, SetuptoolsDeprecationWarning)\n",
      "  running bdist_wheel\n",
      "  running build\n",
      "  running build_py\n",
      "  creating build\n",
      "  creating build/lib.macosx-10.9-x86_64-cpython-39\n",
      "  creating build/lib.macosx-10.9-x86_64-cpython-39/mpl_toolkits\n",
      "  copying src/mpl_toolkits/__init__.py -> build/lib.macosx-10.9-x86_64-cpython-39/mpl_toolkits\n",
      "  creating build/lib.macosx-10.9-x86_64-cpython-39/mpl_toolkits/basemap\n",
      "  copying src/mpl_toolkits/basemap/cm.py -> build/lib.macosx-10.9-x86_64-cpython-39/mpl_toolkits/basemap\n",
      "  copying src/mpl_toolkits/basemap/__init__.py -> build/lib.macosx-10.9-x86_64-cpython-39/mpl_toolkits/basemap\n",
      "  copying src/mpl_toolkits/basemap/test.py -> build/lib.macosx-10.9-x86_64-cpython-39/mpl_toolkits/basemap\n",
      "  copying src/mpl_toolkits/basemap/diagnostic.py -> build/lib.macosx-10.9-x86_64-cpython-39/mpl_toolkits/basemap\n",
      "  copying src/mpl_toolkits/basemap/proj.py -> build/lib.macosx-10.9-x86_64-cpython-39/mpl_toolkits/basemap\n",
      "  copying src/mpl_toolkits/basemap/solar.py -> build/lib.macosx-10.9-x86_64-cpython-39/mpl_toolkits/basemap\n",
      "  running build_ext\n",
      "  cythoning src/_geoslib.pyx to src/_geoslib.c\n",
      "  building '_geoslib' extension\n",
      "  creating build/temp.macosx-10.9-x86_64-cpython-39\n",
      "  creating build/temp.macosx-10.9-x86_64-cpython-39/src\n",
      "  clang -Wno-unused-result -Wsign-compare -Wunreachable-code -DNDEBUG -fwrapv -O2 -Wall -fPIC -O2 -isystem /Users/jaeyoungkang/opt/anaconda3/include -arch x86_64 -I/Users/jaeyoungkang/opt/anaconda3/include -fPIC -O2 -isystem /Users/jaeyoungkang/opt/anaconda3/include -arch x86_64 -I/private/var/folders/0s/vqdpbl0n5gqdvkxzwp1s0tgh0000gn/T/pip-build-env-ddk2_7ww/overlay/lib/python3.9/site-packages/numpy/core/include -I/Users/jaeyoungkang/opt/anaconda3/include/python3.9 -c src/_geoslib.c -o build/temp.macosx-10.9-x86_64-cpython-39/src/_geoslib.o\n",
      "  In file included from src/_geoslib.c:744:\n",
      "  In file included from /private/var/folders/0s/vqdpbl0n5gqdvkxzwp1s0tgh0000gn/T/pip-build-env-ddk2_7ww/overlay/lib/python3.9/site-packages/numpy/core/include/numpy/arrayobject.h:4:\n",
      "  In file included from /private/var/folders/0s/vqdpbl0n5gqdvkxzwp1s0tgh0000gn/T/pip-build-env-ddk2_7ww/overlay/lib/python3.9/site-packages/numpy/core/include/numpy/ndarrayobject.h:12:\n",
      "  In file included from /private/var/folders/0s/vqdpbl0n5gqdvkxzwp1s0tgh0000gn/T/pip-build-env-ddk2_7ww/overlay/lib/python3.9/site-packages/numpy/core/include/numpy/ndarraytypes.h:1969:\n",
      "  /private/var/folders/0s/vqdpbl0n5gqdvkxzwp1s0tgh0000gn/T/pip-build-env-ddk2_7ww/overlay/lib/python3.9/site-packages/numpy/core/include/numpy/npy_1_7_deprecated_api.h:17:2: warning: \"Using deprecated NumPy API, disable it with \"          \"#define NPY_NO_DEPRECATED_API NPY_1_7_API_VERSION\" [-W#warnings]\n",
      "  #warning \"Using deprecated NumPy API, disable it with \" \\\n",
      "   ^\n",
      "  src/_geoslib.c:745:10: fatal error: 'geos_c.h' file not found\n",
      "  #include \"geos_c.h\"\n",
      "           ^~~~~~~~~~\n",
      "  1 warning and 1 error generated.\n",
      "  error: command '/usr/bin/clang' failed with exit code 1\n",
      "  ----------------------------------------\u001b[0m\n",
      "\u001b[31m  ERROR: Failed building wheel for basemap\u001b[0m\n",
      "\u001b[?25hFailed to build basemap\n",
      "\u001b[31mERROR: Could not build wheels for basemap which use PEP 517 and cannot be installed directly\u001b[0m\n",
      "Requirement already satisfied: basemap-data-hires in /Users/jaeyoungkang/opt/anaconda3/lib/python3.9/site-packages (1.3.2)\n"
     ]
    },
    {
     "ename": "ModuleNotFoundError",
     "evalue": "No module named 'mpl_toolkits.basemap'",
     "output_type": "error",
     "traceback": [
      "\u001b[0;31m---------------------------------------------------------------------------\u001b[0m",
      "\u001b[0;31mModuleNotFoundError\u001b[0m                       Traceback (most recent call last)",
      "\u001b[0;32m/var/folders/0s/vqdpbl0n5gqdvkxzwp1s0tgh0000gn/T/ipykernel_51707/2886805534.py\u001b[0m in \u001b[0;36m<module>\u001b[0;34m\u001b[0m\n\u001b[1;32m      7\u001b[0m \u001b[0;32mimport\u001b[0m \u001b[0mmatplotlib\u001b[0m\u001b[0;34m.\u001b[0m\u001b[0mcm\u001b[0m\u001b[0;34m\u001b[0m\u001b[0;34m\u001b[0m\u001b[0m\n\u001b[1;32m      8\u001b[0m \u001b[0;32mimport\u001b[0m \u001b[0mmath\u001b[0m\u001b[0;34m\u001b[0m\u001b[0;34m\u001b[0m\u001b[0m\n\u001b[0;32m----> 9\u001b[0;31m \u001b[0;32mfrom\u001b[0m \u001b[0mmpl_toolkits\u001b[0m\u001b[0;34m.\u001b[0m\u001b[0mbasemap\u001b[0m \u001b[0;32mimport\u001b[0m \u001b[0mBasemap\u001b[0m\u001b[0;34m\u001b[0m\u001b[0;34m\u001b[0m\u001b[0m\n\u001b[0m\u001b[1;32m     10\u001b[0m \u001b[0;32mfrom\u001b[0m \u001b[0mmatplotlib\u001b[0m\u001b[0;34m.\u001b[0m\u001b[0mpatches\u001b[0m \u001b[0;32mimport\u001b[0m \u001b[0mPolygon\u001b[0m\u001b[0;34m\u001b[0m\u001b[0;34m\u001b[0m\u001b[0m\n\u001b[1;32m     11\u001b[0m \u001b[0;32mfrom\u001b[0m \u001b[0mmatplotlib\u001b[0m\u001b[0;34m.\u001b[0m\u001b[0mcollections\u001b[0m \u001b[0;32mimport\u001b[0m \u001b[0mPatchCollection\u001b[0m\u001b[0;34m\u001b[0m\u001b[0;34m\u001b[0m\u001b[0m\n",
      "\u001b[0;31mModuleNotFoundError\u001b[0m: No module named 'mpl_toolkits.basemap'"
     ]
    }
   ],
   "source": [
    "# DO NOT MODIFY THIS BLOCK\n",
    "!pip install basemap\n",
    "!pip install basemap-data-hires\n",
    "\n",
    "import matplotlib\n",
    "import matplotlib.pyplot as plt\n",
    "import matplotlib.cm\n",
    "import math\n",
    "from mpl_toolkits.basemap import Basemap\n",
    "from matplotlib.patches import Polygon\n",
    "from matplotlib.collections import PatchCollection\n",
    "from matplotlib.colors import Normalize\n",
    "\n",
    "fig, ax = plt.subplots(figsize=(25,25))\n",
    "m = Basemap(resolution='i', # c, l, i, h, f or None\n",
    "\tprojection='merc',\n",
    "\tlat_1=45.,lat_2=55,lat_0=50,lon_0=-107,\n",
    "\t\tllcrnrlon=-180, llcrnrlat=-70, urcrnrlon=180, urcrnrlat=80)\n",
    "m.drawmapboundary(fill_color='#45bcec')\n",
    "m.fillcontinents(color='#f2f2f2',lake_color='#46bcec')\n",
    "\n",
    "scale = 0.1\n",
    "for response in responses:\n",
    "    response = json.loads(response)\n",
    "\n",
    "    if not response['longitude'] == None:\n",
    "      lon = response['longitude']\n",
    "      lat = response['latitude']\n",
    "      markerSize = scale*response['longitude']\n",
    "      x, y = m(lon,lat)\n",
    "      plt.plot(x, y, markersize = markerSize, color = 'red', marker = 'o')\n",
    "\n",
    "plt.show()"
   ]
  },
  {
   "cell_type": "markdown",
   "metadata": {
    "id": "zBqatJorqEwN"
   },
   "source": [
    "## Exercise - Random sampling\n",
    "Numpy has a very robust library for sampling from random distributions. For a detailed list of discrete and continuous distributions that can be sampled from, see the [documentation](https://numpy.org/doc/stable/reference/random/index.html).\n",
    "\n",
    "For example, sampling from an exponential distribution can be achieved with"
   ]
  },
  {
   "cell_type": "code",
   "execution_count": null,
   "metadata": {
    "id": "2jr7TEcIqEEZ"
   },
   "outputs": [],
   "source": [
    "# DO NOT EDIT THIS CELL\n",
    "import numpy as np\n",
    "import matplotlib.pyplot as plt\n",
    "\n",
    "np.random.seed(123)\n",
    "\n",
    "#this line is sampling from an exponential distribution\n",
    "elambda = 1\n",
    "values = np.random.exponential(scale=elambda, size=10000)\n",
    "\n",
    "num_bins = 100\n",
    "fig, ax = plt.subplots()\n",
    "n, bins, patches = ax.hist(values, num_bins, density=True)\n",
    "ax.set_xlabel('Values')\n",
    "ax.set_ylabel('Probability density')\n",
    "ax.set_title(r'Random sampling')\n",
    "fig.tight_layout()\n",
    "\n",
    "plt.show()"
   ]
  },
  {
   "cell_type": "markdown",
   "metadata": {
    "id": "eHScyeSoZv-u"
   },
   "source": [
    "a. Inverse Transform Sampling. The inverse CDF method is a widely documented method for generating random samples.\n",
    "\n",
    "In this exercise you will use this method to sample from an exponential distribution with parameter `lambda=1`.\n",
    "\n",
    "Since this is a widely documented method, part of this exercise includes finding the method and implementing it yourself.\n",
    "\n",
    "* Set `lambda=1`.\n",
    "* Generate `10000` samples.\n",
    "* Save the samples to a variable named `samples`.\n",
    "\n",
    "**Hint**\n",
    "* This is not complicated, you should be able to write this in a couple of lines.\n",
    "* Feel free to use online resources like StackOverFlow."
   ]
  },
  {
   "cell_type": "code",
   "execution_count": null,
   "metadata": {
    "id": "n7xdhu-iZcI6"
   },
   "outputs": [],
   "source": [
    "# INSERT CODE IN THIS CELL\n",
    "import numpy as np\n",
    "import matplotlib.pyplot as plt\n",
    "\n",
    "np.random.seed(123)\n",
    "\n",
    "# <--- INSERT CODE HERE -->\n",
    "# <--- INSERT CODE HERE -->\n",
    "\n",
    "num_bins=100\n",
    "fig, ax = plt.subplots()\n",
    "n, bins, patches = ax.hist(samples, num_bins, density=True)\n",
    "ax.set_xlabel('Values')\n",
    "ax.set_ylabel('Probability density')\n",
    "ax.set_title(r'Random sampling')\n",
    "fig.tight_layout()\n",
    "plt.show()"
   ]
  },
  {
   "cell_type": "markdown",
   "metadata": {
    "id": "fDxGQ4CC9uNw"
   },
   "source": [
    "# Exercise - SIR model\n",
    "The SIR model is a simple mathematical model of epidemics. The entities in this model stand for\n",
    "\n",
    "* (S)usceptible: inviduals that are not infected with the disease yet. However, they are not immune to it either, and so they can become infected with the disease in the future.\n",
    "* (I)nfected or infectious: individuals that are infected with the disease and can transmit the disease to susceptible people.\n",
    "* (R)ecovered: individuals who have recovered from the disease and are immune, so they can no longer be infected.\n",
    "\n",
    "In the most basic form, this model model can be represented as\n",
    "\n",
    "<img src=\"https://wikimedia.org/api/rest_v1/media/math/render/svg/c2a8fd2e93bfcf1092a44cfec7ef32c1a80a26f4\" />\n",
    "\n",
    "where \n",
    "\n",
    "* β is the average number of contacts per person per time\n",
    "* γ is the probability a contagious person becoming non-contagious\n",
    "* N is the population size (constant)\n",
    "\n",
    "Consider the numerical solution below using the parameters\n",
    "\n",
    "* `beta = 0.2`\n",
    "* `gamma = 0.07`\n",
    "* `N = 100`\n",
    "* `S0 = 99`\n",
    "* `I0 = 1`\n",
    "* `R0 = 0`\n",
    "\n",
    "\n",
    "\n"
   ]
  },
  {
   "cell_type": "code",
   "execution_count": null,
   "metadata": {
    "id": "9JGRfnzwV4em"
   },
   "outputs": [],
   "source": [
    "# DO NOT MODIFY THIS BLOCK\n",
    "!pip install numpy\n",
    "!pip install scipy\n",
    "\n",
    "import numpy as np\n",
    "from scipy.integrate import odeint\n",
    "\n",
    "# Model\n",
    "def model(y, t, N, beta, gamma):\n",
    "    S, I, R = y\n",
    "    dSdt = -beta * S * I / N\n",
    "    dIdt = beta * S * I / N - gamma * I\n",
    "    dRdt = gamma * I\n",
    "    return dSdt, dIdt, dRdt\n",
    "\n",
    "# Parameters\n",
    "N = 100\n",
    "beta = 0.2\n",
    "gamma = 0.07\n",
    "S_0 = 99\n",
    "I_0 = 1\n",
    "R_0 = 0\n",
    "t = np.linspace(0, 360, 360)\n",
    "\n",
    "# Initial conditions vector\n",
    "y0 = (S_0,I_0,R_0)\n",
    "\n",
    "# Solve using ODE solver\n",
    "results = odeint(model, y0, t, args=(N,beta,gamma))"
   ]
  },
  {
   "cell_type": "markdown",
   "metadata": {
    "id": "Xiw2SXsYV4xL"
   },
   "source": [
    "## Pretty plot\n",
    "Use matplotlib and seaborn to make a figure. \n",
    "\n",
    "* The figure size should `25x25`\n",
    "* The figure should have one plot with three lineplots, `t vs S`, `t vs I` and `t vs R`.\n",
    "* Set title to `SIR model`.\n",
    "* Set x-label to `Time (t)`.\n",
    "* Set y-label to `Population size`.\n",
    "* Make sure each line plot uses different colors."
   ]
  },
  {
   "cell_type": "code",
   "execution_count": null,
   "metadata": {
    "id": "wbFTN6yjV731"
   },
   "outputs": [],
   "source": [
    "# INSERT CODE IN THIS CELL"
   ]
  },
  {
   "cell_type": "markdown",
   "metadata": {
    "id": "kshoCNsWV8Zz"
   },
   "source": [
    "## Save plot to disk\n",
    "Save the plot above to the course folder in your Google Drive to a file named `sir.png`. "
   ]
  },
  {
   "cell_type": "code",
   "execution_count": null,
   "metadata": {
    "id": "Fb7_lnNE55UY"
   },
   "outputs": [],
   "source": [
    "# INSERT CODE IN THIS CELL"
   ]
  },
  {
   "cell_type": "markdown",
   "metadata": {
    "id": "y4Q5bs-4ujiw"
   },
   "source": [
    "# Exercise - Matrix multiplication using `numpy` (updated edition).\n",
    "\n",
    "Design an implement a method called `can_be_multiplied`. \n",
    "\n",
    "* Use only the standard libary and `numpy`.\n",
    "* This method takes two Numpy arrays and returns True if these two matrices can be multiplied. False, otherwise.\n",
    "* Work on the assumption that if the input arguments are `a` and `b` (in that order), then the operation `a*b` will be checked by this method and not `b*a`.\n",
    "* If the input argument is not a Numpy array, then the method should return `None`.\n",
    "* **NEW**. If any of the arrays is a Numpy array, then check that the `dtype` of these arrays is numeric.\n",
    "* **NEW**. If any of the arrays is empty, then issue a warning message letting the user know which of the arrays is empty.\n",
    "* Write docstrings for this method.\n",
    "* Write at least 6 assertions to test your method.\n",
    "\n",
    "**Hint**\n",
    "* Test for empty matrices. If any of the matrices are empty, then this method should return `False`."
   ]
  },
  {
   "cell_type": "code",
   "execution_count": null,
   "metadata": {
    "id": "aGKEp07vujpy"
   },
   "outputs": [],
   "source": [
    "# INSERT CODE IN THIS CELL"
   ]
  }
 ],
 "metadata": {
  "colab": {
   "collapsed_sections": [],
   "provenance": []
  },
  "kernelspec": {
   "display_name": "Python 3 (ipykernel)",
   "language": "python",
   "name": "python3"
  },
  "language_info": {
   "codemirror_mode": {
    "name": "ipython",
    "version": 3
   },
   "file_extension": ".py",
   "mimetype": "text/x-python",
   "name": "python",
   "nbconvert_exporter": "python",
   "pygments_lexer": "ipython3",
   "version": "3.9.7"
  }
 },
 "nbformat": 4,
 "nbformat_minor": 1
}
